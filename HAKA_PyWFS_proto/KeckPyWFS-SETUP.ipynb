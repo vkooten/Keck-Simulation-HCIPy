{
 "cells": [
  {
   "cell_type": "code",
   "execution_count": 1,
   "metadata": {},
   "outputs": [
    {
     "ename": "ModuleNotFoundError",
     "evalue": "No module named 'KeckTools'",
     "output_type": "error",
     "traceback": [
      "\u001b[0;31m---------------------------------------------------------------------------\u001b[0m",
      "\u001b[0;31mModuleNotFoundError\u001b[0m                       Traceback (most recent call last)",
      "\u001b[0;32m<ipython-input-1-11086bc5273a>\u001b[0m in \u001b[0;36m<module>\u001b[0;34m\u001b[0m\n\u001b[1;32m      1\u001b[0m \u001b[0;31m##### Import packages #####\u001b[0m\u001b[0;34m\u001b[0m\u001b[0;34m\u001b[0m\u001b[0m\n\u001b[1;32m      2\u001b[0m \u001b[0;32mimport\u001b[0m \u001b[0msys\u001b[0m\u001b[0;34m\u001b[0m\u001b[0m\n\u001b[0;32m----> 3\u001b[0;31m \u001b[0;32mfrom\u001b[0m \u001b[0mKeckTools\u001b[0m \u001b[0;32mimport\u001b[0m \u001b[0;34m*\u001b[0m\u001b[0;34m\u001b[0m\u001b[0m\n\u001b[0m\u001b[1;32m      4\u001b[0m \u001b[0mget_ipython\u001b[0m\u001b[0;34m(\u001b[0m\u001b[0;34m)\u001b[0m\u001b[0;34m.\u001b[0m\u001b[0mrun_line_magic\u001b[0m\u001b[0;34m(\u001b[0m\u001b[0;34m'qtconsole'\u001b[0m\u001b[0;34m,\u001b[0m \u001b[0;34m''\u001b[0m\u001b[0;34m)\u001b[0m\u001b[0;34m\u001b[0m\u001b[0m\n",
      "\u001b[0;31mModuleNotFoundError\u001b[0m: No module named 'KeckTools'"
     ]
    }
   ],
   "source": [
    "##### Import packages #####\n",
    "import sys\n",
    "from KeckTools import *\n",
    "%qtconsole"
   ]
  },
  {
   "cell_type": "code",
   "execution_count": null,
   "metadata": {},
   "outputs": [],
   "source": [
    "##### Simulation parameters #####\n",
    "# Sizes\n",
    "nPx = 4*75 #assumed before we had 40 pxl and 15 pixels on either side for 70pixel per pupil.\n",
    "#now we want 63 pxl with 6 either side so 75 per pupil\n",
    "D = 10.95\n",
    "D_full = D*(75/63) # \n",
    "# wfs\n",
    "nPx_wfs = 2*75\n",
    "bin_wfs = int((nPx*2)/(nPx_wfs))\n",
    "lambda_wfs = 1.65e-6                # H-band WFSing\n",
    "lambda_D = lambda_wfs/D\n",
    "k = 2*np.pi/lambda_wfs\n",
    "wfs_tp = 0.1                        # Measured throughput\n",
    "frameRate = 1000\n",
    "dt = 1/frameRate\n",
    "mod = 5                             # Modulation in lambda/D\n",
    "modSteps = 24                       # Should be a factor of 4\n",
    "# ngs\n",
    "mag = 4\n",
    "band = 'H'\n",
    "wfs_thres = 0.5\n",
    "# Science object (for now assume same number of photons)\n",
    "lambda_sci = 2.2e-6\n",
    "# Atmosphere\n",
    "seeing = 0.5 #0.75\" gives 0.13m r0 at 500nm. \n",
    "L0 = 80 # meter\n",
    "windSpeed = 10                      # m/s\n",
    "lambda_ref = 500e-9                 # Reference wavelength (i.e. for seeing)\n",
    "\n",
    "convert=lambda_wfs #conversion factor to voltages. Currently converting to waves for numerical stability"
   ]
  },
  {
   "cell_type": "code",
   "execution_count": null,
   "metadata": {},
   "outputs": [],
   "source": [
    "##### Setup grids and pupils #####\n",
    "# High resolution pupil\n",
    "pupil_grid = make_pupil_grid(nPx,D_full)\n",
    "# wfs resolution\n",
    "pwfs_grid = make_pupil_grid(nPx_wfs,D_full)\n",
    "# Keck pupil\n",
    "keck_aperture, segments = make_keck_aperture(return_segments=True,normalized=False)\n",
    "pupil = evaluate_supersampled(keck_aperture, pupil_grid, 8)\n",
    "segments = evaluate_supersampled(segments, pupil_grid, 8)\n",
    "# Circular pupil\n",
    "ap = circular_aperture(D)\n",
    "circ_pupil = ap(pupil_grid)\n",
    "# Plot pupil\n",
    "plt.subplot(1,2,1)\n",
    "imshow_field(pupil)\n",
    "plt.subplot(1,2,2)\n",
    "imshow_field(circ_pupil)"
   ]
  },
  {
   "cell_type": "code",
   "execution_count": null,
   "metadata": {},
   "outputs": [],
   "source": [
    "##### Setup the star & magnitude #####\n",
    "nPhotons = flux(mag,band,wfs_tp,dt)"
   ]
  },
  {
   "cell_type": "code",
   "execution_count": null,
   "metadata": {},
   "outputs": [],
   "source": [
    "##### Setup the wavefront #####\n",
    "# WF associated with the ngs\n",
    "wf_ngs = Wavefront(pupil,wavelength=lambda_wfs)\n",
    "wf_ngs.total_power = nPhotons\n",
    "# WF associated with science\n",
    "wf_sci = Wavefront(pupil,wavelength=lambda_sci)\n",
    "wf_sci.total_power = nPhotons"
   ]
  },
  {
   "cell_type": "code",
   "execution_count": null,
   "metadata": {},
   "outputs": [],
   "source": [
    "##### Setup the focal plane propagator for wfs #####\n",
    "focal_grid = make_focal_grid(q=8, num_airy=8,spatial_resolution=lambda_wfs)\n",
    "propagator = FraunhoferPropagator(pupil_grid, focal_grid)"
   ]
  },
  {
   "cell_type": "code",
   "execution_count": null,
   "metadata": {},
   "outputs": [],
   "source": [
    "##### Setup the atmosphere #####\n",
    "r0 = seeing_to_fried_parameter(seeing)\n",
    "print(r0)\n",
    "Cn_squared = Cn_squared_from_fried_parameter(r0,500e-9)\n",
    "layer = InfiniteAtmosphericLayer(pupil_grid, Cn_squared, L0, windSpeed)"
   ]
  },
  {
   "cell_type": "code",
   "execution_count": null,
   "metadata": {},
   "outputs": [],
   "source": [
    "##### Setup the wfs #####\n",
    "pwfs, mpwfs, wfs_camera = setupPyWFS(pupil_grid,mod,lambda_wfs,D_full,modSteps)\n",
    "\n",
    "# Propagate a flat (reference) wavefront through the PyWFS\n",
    "wf = Wavefront(pupil,lambda_wfs)\n",
    "\n",
    "# Initiate the wfs\n",
    "pwfs_im, pwfs_refSlopes, pwfs_mask, pupil_mask = initPyWFS(wfs_camera,mpwfs,wf,modSteps,bin_wfs,pwfs_grid,wfs_thres,dt)\n",
    "\n",
    "# Plot the PyWFS image and reference slopes\n",
    "[sx,sy] = slopeMaps(pwfs_refSlopes,pupil_mask)\n",
    "plt.subplot(1,2,1)\n",
    "plt.imshow(pwfs_im.reshape(pwfs_grid.shape))\n",
    "plt.subplot(1,2,2)\n",
    "plt.imshow(np.concatenate([sx,sy]))\n",
    "plt.colorbar()"
   ]
  },
  {
   "cell_type": "code",
   "execution_count": null,
   "metadata": {},
   "outputs": [],
   "source": [
    "##### Setup the DM #####\n",
    "#I am assuming that this is the same dm https://www.northropgrumman.com/wp-content/uploads/AOA-X-Deformable-Mirror-Technologies.pdf\n",
    "# I get a 10% crosstalk from the paper\n",
    "nAct = 59\n",
    "crosstalk=0.1\n",
    "dm, nModes, dm_pupil = setupZonalDM(nAct,D,pupil_grid,crosstalk)\n",
    "imshow_field(dm_pupil)"
   ]
  },
  {
   "cell_type": "code",
   "execution_count": null,
   "metadata": {},
   "outputs": [],
   "source": [
    "# Compute modal basis\n",
    "calibBasis = 'zernike'\n",
    "nModes = 2733 #should be 2733\n",
    "modes = make_zernike_basis(nModes,D,pupil_grid,starting_mode=2)\n",
    "mode_dm_proj = np.array(np.matmul(np.linalg.pinv(dm.influence_functions.transformation_matrix.todense()[circ_pupil==1,:][:,dm_pupil==1]),modes.transformation_matrix[circ_pupil==1,:]))\n",
    "dm_modal = DeformableMirror(modes)##### Setup the DM #####\n",
    "#I am assuming that this is the same dm https://www.northropgrumman.com/wp-content/uploads/AOA-X-Deformable-Mirror-Technologies.pdf\n",
    "# I get a 10% crosstalk from the paper\n",
    "dm, nModes, dm_pupil = setupZonalDM(nAct,D,pupil_grid,crosstalk)\n",
    "\n",
    "imshow_field(dm_pupil)"
   ]
  },
  {
   "cell_type": "code",
   "execution_count": null,
   "metadata": {},
   "outputs": [],
   "source": [
    "##### Calibrate the system #####\n",
    "recalib = False\n",
    "probe_amp = 0.02 * lambda_wfs\n",
    "rcond = 0.01\n",
    "if recalib:\n",
    "    if calibBasis.lower()=='zonal':\n",
    "        IM, CM, svd = calibratePyWFS(dm,dm_pupil,pupil,mpwfs,wfs_camera,lambda_wfs,modSteps,bin_wfs,pwfs_grid,pwfs_mask,pwfs_refSlopes,probe_amp,rcond,dt)\n",
    "    else:\n",
    "        validModes = np.ones(np.shape(dm_modal.actuators))\n",
    "        IM, CM_modal, svd = calibratePyWFS(dm_modal,validModes,pupil,mpwfs,wfs_camera,lambda_wfs,modSteps,bin_wfs,pwfs_grid,pwfs_mask,pwfs_refSlopes,probe_amp,rcond,dt)\n",
    "        np.save('IM_'+calibBasis.lower()+'.npy',IM)\n",
    "        CM = np.matmul(mode_dm_proj,CM_modal)\n",
    "else:\n",
    "    if calibBasis.lower()=='zonal':\n",
    "        IM = np.load('IM.npy')\n",
    "        svd = SVD(IM)\n",
    "        CM = computeCM(IM,rcond,svd)\n",
    "    else:\n",
    "        IM = np.load('IM_'+calibBasis.lower()+'.npy')\n",
    "        svd = SVD(IM)\n",
    "        CM_modal = computeCM(IM,rcond,svd)\n",
    "        CM = np.matmul(mode_dm_proj,CM_modal)\n",
    "\n",
    "# Plots\n",
    "if calibBasis.lower()=='zonal':\n",
    "    # Plot identity matrix\n",
    "    plt.imshow(np.matmul(CM,IM))\n",
    "    plt.colorbar()\n",
    "    plt.show()\n",
    "    # Look at the actuators which are controlled\n",
    "    dm_ctrl = 0*dm_pupil.copy()\n",
    "    dm_ctrl[dm_pupil==1] = np.diag(np.matmul(CM,IM))\n",
    "    plt.imshow(dm_ctrl.reshape([nAct,nAct]))\n",
    "    plt.show()\n",
    "else:\n",
    "    # Plot identity matrix\n",
    "    plt.imshow(np.matmul(CM_modal,IM))\n",
    "    plt.colorbar()\n",
    "    plt.show()\n",
    "\n",
    "cLim = np.max(np.abs(CM))\n",
    "plt.imshow(CM,aspect='auto',cmap='seismic',vmin=-cLim,vmax=cLim)\n",
    "plt.colorbar()\n",
    "plt.show()"
   ]
  },
  {
   "cell_type": "code",
   "execution_count": null,
   "metadata": {},
   "outputs": [],
   "source": [
    "##### Fourier filtering #####\n",
    "modalGains = [1,0.4]\n",
    "cutOffFreq = mod\n",
    "# Only want the valid actuators\n",
    "CM_filt = applyModalGains(CM,cutOffFreq,nAct,dm_pupil.reshape([nAct,nAct]),modalGains)\n",
    "plt.imshow(np.matmul(CM_filt,IM))\n",
    "plt.colorbar()"
   ]
  },
  {
   "cell_type": "code",
   "execution_count": null,
   "metadata": {},
   "outputs": [],
   "source": [
    "# Add segemnted Keck mirror later\n",
    "ksm =SegmentedDeformableMirror(segments)\n",
    "ksm.flatten()\n",
    "#ksm.random(120E-9)"
   ]
  },
  {
   "cell_type": "markdown",
   "metadata": {},
   "source": []
  },
  {
   "cell_type": "code",
   "execution_count": null,
   "metadata": {},
   "outputs": [],
   "source": [
    "print(CM.shape)"
   ]
  },
  {
   "cell_type": "code",
   "execution_count": null,
   "metadata": {},
   "outputs": [],
   "source": []
  }
 ],
 "metadata": {
  "kernelspec": {
   "display_name": "Python 3",
   "language": "python",
   "name": "python3"
  },
  "language_info": {
   "codemirror_mode": {
    "name": "ipython",
    "version": 3
   },
   "file_extension": ".py",
   "mimetype": "text/x-python",
   "name": "python",
   "nbconvert_exporter": "python",
   "pygments_lexer": "ipython3",
   "version": "3.7.0"
  }
 },
 "nbformat": 4,
 "nbformat_minor": 4
}
